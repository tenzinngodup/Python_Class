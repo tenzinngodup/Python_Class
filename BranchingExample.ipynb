{
 "cells": [
  {
   "cell_type": "code",
   "execution_count": 10,
   "metadata": {
    "collapsed": false
   },
   "outputs": [
    {
     "name": "stdout",
     "output_type": "stream",
     "text": [
      "1\n",
      "2\n",
      "3\n",
      "4\n",
      "break\n",
      "break\n",
      "break\n",
      "break\n",
      "break\n"
     ]
    }
   ],
   "source": [
    "for x in range(1,10):\n",
    "    if(x <5):\n",
    "        print x\n",
    "        continue\n",
    "    print\"break\""
   ]
  },
  {
   "cell_type": "code",
   "execution_count": 13,
   "metadata": {
    "collapsed": false
   },
   "outputs": [
    {
     "ename": "SyntaxError",
     "evalue": "'continue' not properly in loop (<ipython-input-13-eeaaed43bf92>, line 4)",
     "output_type": "error",
     "traceback": [
      "\u001b[1;36m  File \u001b[1;32m\"<ipython-input-13-eeaaed43bf92>\"\u001b[1;36m, line \u001b[1;32m4\u001b[0m\n\u001b[1;33m    continue\u001b[0m\n\u001b[1;31mSyntaxError\u001b[0m\u001b[1;31m:\u001b[0m 'continue' not properly in loop\n"
     ]
    }
   ],
   "source": [
    "x = 10\n",
    "if(x <5):\n",
    "    print x\n",
    "    continue"
   ]
  },
  {
   "cell_type": "code",
   "execution_count": 15,
   "metadata": {
    "collapsed": false
   },
   "outputs": [
    {
     "name": "stdout",
     "output_type": "stream",
     "text": [
      "['a', 'b', 'c', 'foo']\n",
      "a.b.c.foo\n"
     ]
    }
   ],
   "source": [
    "x = ['a','b','c','foo']\n",
    "print x\n",
    "print '.'.join(x)"
   ]
  },
  {
   "cell_type": "code",
   "execution_count": 30,
   "metadata": {
    "collapsed": false
   },
   "outputs": [
    {
     "data": {
      "text/plain": [
       "[' frist line', 'second line ', 'third line', '', '']"
      ]
     },
     "execution_count": 30,
     "metadata": {},
     "output_type": "execute_result"
    }
   ],
   "source": [
    "text = ''' frist line\n",
    "second line \n",
    "third line\n",
    "\n",
    "'''\n",
    "type(text)\n",
    "split_lines = text.split(\"\\n\")\n",
    "split_lines"
   ]
  },
  {
   "cell_type": "code",
   "execution_count": 32,
   "metadata": {
    "collapsed": false
   },
   "outputs": [
    {
     "data": {
      "text/plain": [
       "[('drnorris',),\n",
       " ('MhUWHejr2',),\n",
       " ('20',),\n",
       " ('20',),\n",
       " ('',),\n",
       " ('/home/drnorris',),\n",
       " ('/bin/bash',)]"
      ]
     },
     "execution_count": 32,
     "metadata": {},
     "output_type": "execute_result"
    }
   ],
   "source": [
    "x = 'drnorris:MhUWHejr2:20:20::/home/drnorris:/bin/bash'\n",
    "y = x.split(':')\n",
    "zip(y)"
   ]
  },
  {
   "cell_type": "code",
   "execution_count": 33,
   "metadata": {
    "collapsed": false
   },
   "outputs": [
    {
     "data": {
      "text/plain": [
       "['fred sally mary john', 'red orange blue pink', 'one two three four']"
      ]
     },
     "execution_count": 33,
     "metadata": {},
     "output_type": "execute_result"
    }
   ],
   "source": [
    "line = '''fred sally mary john\n",
    "red orange blue pink\n",
    "one two three four'''\n",
    "line.split('\\n')\n"
   ]
  },
  {
   "cell_type": "code",
   "execution_count": 39,
   "metadata": {
    "collapsed": false
   },
   "outputs": [
    {
     "ename": "SyntaxError",
     "evalue": "invalid syntax (<ipython-input-39-e562780ccea8>, line 7)",
     "output_type": "error",
     "traceback": [
      "\u001b[1;36m  File \u001b[1;32m\"<ipython-input-39-e562780ccea8>\"\u001b[1;36m, line \u001b[1;32m7\u001b[0m\n\u001b[1;33m    for line in csv_data.split('\\n')\u001b[0m\n\u001b[1;37m                                    ^\u001b[0m\n\u001b[1;31mSyntaxError\u001b[0m\u001b[1;31m:\u001b[0m invalid syntax\n"
     ]
    }
   ],
   "source": [
    "csv_data = '''Feb 1,cloudy,85\n",
    "Feb 2,sunny,90\n",
    "Feb 3,sunny,110\n",
    "'''\n",
    "\n",
    "my_data = []\n",
    "for line in csv_data.split('\\n')\n",
    "    my_data.append(line.split('',))\n",
    "\n",
    "print my_data"
   ]
  },
  {
   "cell_type": "code",
   "execution_count": null,
   "metadata": {
    "collapsed": false
   },
   "outputs": [],
   "source": [
    "f = open('data.csv', 'r') \n",
    "print f.read()\n",
    "my_data = []\n",
    "my_data2 = []\n",
    "\n",
    "\n",
    "#with statement closes the file content\n",
    "with open('data.csv', 'r') as f:\n",
    "    for line in f.read().split('\\n'):\n",
    "        my_data.append(line.split(','))\n",
    "print my_data\n",
    "\n",
    "zip(my_data)\n",
    "# dic(zip(my_data))\n",
    "\n",
    "x = 1\n",
    "with open('data.csv', 'r') as f:\n",
    "    for line in f.read().split('\\n'):\n",
    "        if( x == 1)\n",
    "            my_data2.append(line.split(','))\n",
    "            x += 1\n",
    "print(\"tezt\")\n",
    "print(zip(my_data2))\n",
    "        \n",
    "# print my_data\n"
   ]
  },
  {
   "cell_type": "code",
   "execution_count": 71,
   "metadata": {
    "collapsed": false
   },
   "outputs": [
    {
     "ename": "NameError",
     "evalue": "name 'dic' is not defined",
     "output_type": "error",
     "traceback": [
      "\u001b[1;31m---------------------------------------------------------------------------\u001b[0m",
      "\u001b[1;31mNameError\u001b[0m                                 Traceback (most recent call last)",
      "\u001b[1;32m<ipython-input-71-b414165c5d57>\u001b[0m in \u001b[0;36m<module>\u001b[1;34m()\u001b[0m\n\u001b[0;32m      1\u001b[0m \u001b[0mx\u001b[0m \u001b[1;33m=\u001b[0m \u001b[1;33m{\u001b[0m \u001b[1;34m'x'\u001b[0m\u001b[1;33m:\u001b[0m\u001b[1;34m\"val\"\u001b[0m\u001b[1;33m}\u001b[0m\u001b[1;33m\u001b[0m\u001b[0m\n\u001b[1;32m----> 2\u001b[1;33m \u001b[0mdic\u001b[0m\u001b[1;33m(\u001b[0m\u001b[0mzip\u001b[0m\u001b[1;33m(\u001b[0m\u001b[0mx\u001b[0m\u001b[1;33m)\u001b[0m\u001b[1;33m)\u001b[0m\u001b[1;33m\u001b[0m\u001b[0m\n\u001b[0m",
      "\u001b[1;31mNameError\u001b[0m: name 'dic' is not defined"
     ]
    }
   ],
   "source": [
    "x = { 'x':\"val\"}\n",
    "dic(zip(x))"
   ]
  },
  {
   "cell_type": "code",
   "execution_count": 2,
   "metadata": {
    "collapsed": false
   },
   "outputs": [
    {
     "name": "stdout",
     "output_type": "stream",
     "text": [
      "2\n"
     ]
    }
   ],
   "source": [
    "x = 2\n",
    "print x"
   ]
  },
  {
   "cell_type": "code",
   "execution_count": 14,
   "metadata": {
    "collapsed": true
   },
   "outputs": [],
   "source": [
    "x = ['first line1','second line', 'third line']\n",
    "\n",
    "with open('output2.txt', 'w') as f:\n",
    "    for item in x: \n",
    "        f.write(item+'\\n')\n",
    "with open('output.txt', 'a') as f:\n",
    "    for item in x: \n",
    "        f.write(item+'\\n')        \n"
   ]
  },
  {
   "cell_type": "code",
   "execution_count": 13,
   "metadata": {
    "collapsed": false
   },
   "outputs": [],
   "source": [
    "import pickle\n",
    "favorite_color = { \"lion\": \"yellow\", \"kitty\": [1,2,1] }\n",
    "pickle.dump( favorite_color, open( \"save.p\", \"wb\" ) )\n"
   ]
  },
  {
   "cell_type": "code",
   "execution_count": 11,
   "metadata": {
    "collapsed": false
   },
   "outputs": [
    {
     "name": "stdout",
     "output_type": "stream",
     "text": [
      "{'lion': 'yellow', 'kitty': [1, 2, 1]}\n"
     ]
    }
   ],
   "source": [
    "favorite_color = pickle.load( open( \"save.p\", \"rb\" ) )\n",
    "print favorite_color"
   ]
  },
  {
   "cell_type": "code",
   "execution_count": 18,
   "metadata": {
    "collapsed": false
   },
   "outputs": [
    {
     "data": {
      "text/plain": [
       "['Time,Velocity ft/sec,Velocity ft/sec\\n8/30/2013 15:45,1.35,1.25\\n8/30/2013 16:00,1.36,1.3\\n8/30/2013 16:15,1.39,1.35\\n8/30/2013 16:30,1.39,1.38\\n8/30/2013 16:45,1.44,1.4']"
      ]
     },
     "execution_count": 18,
     "metadata": {},
     "output_type": "execute_result"
    }
   ],
   "source": [
    "with open('hangman_output.txt','r') as f: \n",
    "    input_data =  f.read()\n",
    "\n",
    "input_data.split('/n')\n",
    "\n",
    "    \n",
    "\n",
    "\n",
    "    "
   ]
  },
  {
   "cell_type": "code",
   "execution_count": 20,
   "metadata": {
    "collapsed": true
   },
   "outputs": [],
   "source": [
    "with open('hangman_output.txt','w') as f:\n",
    "    f.write(\"something something2 something3\")"
   ]
  },
  {
   "cell_type": "code",
   "execution_count": 33,
   "metadata": {
    "collapsed": false
   },
   "outputs": [
    {
     "data": {
      "text/plain": [
       "['_', '_', '_', '_', '_', '_', '_', '_', '_']"
      ]
     },
     "execution_count": 33,
     "metadata": {},
     "output_type": "execute_result"
    }
   ],
   "source": [
    "with open('hangman_output.txt','r') as f: \n",
    "    words =  f.read()\n",
    "\n",
    "words = words.split(' ')\n",
    "\n",
    "import random\n",
    "\n",
    "mystery_word = random.choice(words)\n",
    "\n",
    "list = ['_','_','_']\n",
    "\n",
    "def create_list(word):\n",
    "    data = []\n",
    "    length = len(word)\n",
    "    for i in range(length):\n",
    "        data.append('_')\n",
    "    return data\n",
    "\n",
    "create_list(\"something\")\n",
    "\n"
   ]
  },
  {
   "cell_type": "code",
   "execution_count": 5,
   "metadata": {
    "collapsed": false
   },
   "outputs": [
    {
     "data": {
      "text/plain": [
       "1"
      ]
     },
     "execution_count": 5,
     "metadata": {},
     "output_type": "execute_result"
    }
   ],
   "source": [
    "def add(val1,val2):\n",
    "    return val1+val2\n",
    "    def substract(val1,val2):\n",
    "        return val1-val2\n",
    "\n",
    "add(1,2)\n",
    "substract(2,1)"
   ]
  },
  {
   "cell_type": "code",
   "execution_count": 7,
   "metadata": {
    "collapsed": false
   },
   "outputs": [],
   "source": [
    "import math\n",
    "math."
   ]
  },
  {
   "cell_type": "code",
   "execution_count": 8,
   "metadata": {
    "collapsed": true
   },
   "outputs": [],
   "source": [
    "import pickle\n",
    "pickle."
   ]
  },
  {
   "cell_type": "code",
   "execution_count": 11,
   "metadata": {
    "collapsed": false
   },
   "outputs": [],
   "source": [
    "PPL = {\"Fred\": \"San Jose\", \"Mary\": \"Freemont\", \"Omer\": \"Folsom\", \"Amy\":\"Folsom\"}\n",
    "\n",
    "\n"
   ]
  },
  {
   "cell_type": "code",
   "execution_count": 18,
   "metadata": {
    "collapsed": false
   },
   "outputs": [
    {
     "name": "stdout",
     "output_type": "stream",
     "text": [
      "[{'color': 'red', 'age': 10, 'name': 'fido'}, {'color': 'white', 'age': 4, 'name': 'fufu'}]\n"
     ]
    }
   ],
   "source": [
    "PPL = [ {'name': 'fido', 'color': 'red', 'age': 10},\n",
    "  {'name': 'fufu', 'color': 'white', 'age': 4},\n",
    "  {'name': 'clifford', 'color': 'red', 'age': 2} ]\n",
    "\n",
    "print [p for p in PPL if p['age'] >3 ]\n"
   ]
  },
  {
   "cell_type": "code",
   "execution_count": null,
   "metadata": {
    "collapsed": false
   },
   "outputs": [],
   "source": [
    "animal= {'fido': 'brown', 'fufu': 'white', 'clifford': 'red', 'smokey': 'black'}\n",
    "\n",
    "print [p for p,v in animal.items() if v =='brown' or  v == 'red']"
   ]
  },
  {
   "cell_type": "code",
   "execution_count": 12,
   "metadata": {
    "collapsed": false
   },
   "outputs": [
    {
     "name": "stdout",
     "output_type": "stream",
     "text": [
      "What is your number? -10\n",
      "-10\n",
      "error entered\n"
     ]
    }
   ],
   "source": [
    "\n",
    "def testposVal(value):\n",
    "    if value >= 0:\n",
    "        print  value\n",
    "        return True\n",
    "    else:    \n",
    "        raise ValueError('Wrong integer')\n",
    "        \n",
    "\n",
    "if __name__ == '__main__': \n",
    "    try:\n",
    "        input = raw_input(\"What is your number? \")\n",
    "        testposVal(input)\n",
    "    except Exception,e:\n",
    "        print  e\n",
    "    else:\n",
    "        print \"error entered\"\n",
    "        \n"
   ]
  },
  {
   "cell_type": "code",
   "execution_count": 34,
   "metadata": {
    "collapsed": false
   },
   "outputs": [
    {
     "name": "stdout",
     "output_type": "stream",
     "text": [
      "0\n"
     ]
    }
   ],
   "source": [
    "from subprocess import call\n",
    "x = call('ls')\n",
    "print x"
   ]
  },
  {
   "cell_type": "code",
   "execution_count": 49,
   "metadata": {
    "collapsed": false
   },
   "outputs": [
    {
     "name": "stdout",
     "output_type": "stream",
     "text": [
      "\r\n",
      "Pinging google.com [216.58.193.174] with 32 bytes of data:\r\n",
      "Request timed out.\r\n",
      "Request timed out.\r\n",
      "Request timed out.\r\n",
      "Request timed out.\r\n",
      "\r\n",
      "Ping statistics for 216.58.193.174:\r\n",
      "    Packets: Sent = 4, Received = 0, Lost = 4 (100% loss),\r\n",
      "\r\n",
      "Pinging yahoo.com [206.190.36.45] with 32 bytes of data:\r\n",
      "Request timed out.\r\n",
      "Request timed out.\r\n",
      "Request timed out.\r\n",
      "Request timed out.\r\n",
      "\r\n",
      "Ping statistics for 206.190.36.45:\r\n",
      "    Packets: Sent = 4, Received = 0, Lost = 4 (100% loss),\r\n",
      "\n"
     ]
    }
   ],
   "source": [
    "import subprocess as sp\n",
    "\n",
    "def getFiles():\n",
    "    cmd = ('systeminfo',)\n",
    "    p = sp.Popen(cmd, shell=False, stdout=sp.PIPE)\n",
    "    out, err = p.communicate()\n",
    "    out = out.strip().split()\n",
    "    return out\n",
    "\n",
    "def runCommand(cmd):\n",
    "    p = sp.Popen(cmd, shell=False, stdout=sp.PIPE)\n",
    "    out, err = p.communicate()\n",
    "#     out = out.strip().split()\n",
    "    return out\n",
    "# runCommand('systeminfo')\n",
    "# runCommand('ls')\n",
    "x = runCommand('ping google.com')\n",
    "y = runCommand('ping yahoo.com')\n",
    "print x,y\n",
    "\n"
   ]
  },
  {
   "cell_type": "code",
   "execution_count": 59,
   "metadata": {
    "collapsed": false
   },
   "outputs": [
    {
     "name": "stdout",
     "output_type": "stream",
     "text": [
      "3\n",
      "30\n"
     ]
    }
   ],
   "source": [
    "class foo():\n",
    "    def __init__(self, var1, var2):\n",
    "        self.blah = var1\n",
    "        self.blah2 = var2\n",
    "        blah3 = 'poof'\n",
    "    def printV2(self):\n",
    "        print self.blah2\n",
    "        print \"blah3:\", blah3\n",
    "        \n",
    "my_foo = foo(4,3)\n",
    "print my_foo.blah2\n",
    "\n",
    "my_foo2 = foo(40,30)\n",
    "print my_foo2.blah2"
   ]
  },
  {
   "cell_type": "code",
   "execution_count": 67,
   "metadata": {
    "collapsed": false
   },
   "outputs": [],
   "source": [
    "class movies():\n",
    "    def __init__(self):\n",
    "        self.year = None\n",
    "        self.actors = []\n",
    "        self.genre = None\n",
    "\n",
    "    def setYear(value):\n",
    "        if isint(value):\n",
    "            self.year = value\n",
    "            return True\n",
    "        else:\n",
    "            raise ValueError('Wrong integer')\n",
    "            return False\n",
    "    def setGenre(value):\n",
    "        if isint(value):\n",
    "            self.year = value\n",
    "            return True\n",
    "        else:\n",
    "            return False\n",
    "        \n",
    "    def addActor(value): \n",
    "        if isint(value):\n",
    "            self.year = value\n",
    "            return True\n",
    "        else:\n",
    "            return False\n"
   ]
  }
 ],
 "metadata": {
  "kernelspec": {
   "display_name": "Python 2",
   "language": "python",
   "name": "python2"
  },
  "language_info": {
   "codemirror_mode": {
    "name": "ipython",
    "version": 2
   },
   "file_extension": ".py",
   "mimetype": "text/x-python",
   "name": "python",
   "nbconvert_exporter": "python",
   "pygments_lexer": "ipython2",
   "version": "2.7.11"
  }
 },
 "nbformat": 4,
 "nbformat_minor": 0
}
