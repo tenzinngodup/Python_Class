{
 "cells": [
  {
   "cell_type": "code",
   "execution_count": 6,
   "metadata": {
    "collapsed": true
   },
   "outputs": [],
   "source": [
    "import numpy as np\n",
    "import matplotlib.pyplot as plt"
   ]
  },
  {
   "cell_type": "code",
   "execution_count": 4,
   "metadata": {
    "collapsed": false
   },
   "outputs": [],
   "source": [
    "time_step = 0.02\n",
    "period = 5\n",
    "time_vec = np.arange(0,20,time_step)"
   ]
  },
  {
   "cell_type": "code",
   "execution_count": 5,
   "metadata": {
    "collapsed": true
   },
   "outputs": [],
   "source": [
    "sig = np.sin(2*np.pi/period * time_vec)+ 0.5*np.random.randn(time_vec.size)"
   ]
  },
  {
   "cell_type": "code",
   "execution_count": 12,
   "metadata": {
    "collapsed": false
   },
   "outputs": [
    {
     "data": {
      "text/plain": [
       "[<matplotlib.lines.Line2D at 0x7478710>]"
      ]
     },
     "execution_count": 12,
     "metadata": {},
     "output_type": "execute_result"
    }
   ],
   "source": [
    "plt.plot(time_vec,sig)\n"
   ]
  },
  {
   "cell_type": "code",
   "execution_count": 14,
   "metadata": {
    "collapsed": true
   },
   "outputs": [],
   "source": [
    "plt.show()"
   ]
  },
  {
   "cell_type": "code",
   "execution_count": 19,
   "metadata": {
    "collapsed": false
   },
   "outputs": [
    {
     "name": "stdout",
     "output_type": "stream",
     "text": [
      "139\n"
     ]
    }
   ],
   "source": [
    " foo = [2, 18, 9, 22, 17, 24, 8, 12, 27]\n",
    "\n",
    "# print filter(lambda x: x % 3 == 0, foo)\n",
    "# [18, 9, 24, 12, 27]\n",
    "\n",
    "# print map(lambda x: x * 2 + 10, foo)\n",
    "# [14, 46, 28, 54, 44, 58, 26, 34, 64]\n",
    "# >>> \n",
    "print reduce(lambda x, y: x + y, foo)\n",
    "# 139"
   ]
  },
  {
   "cell_type": "code",
   "execution_count": 28,
   "metadata": {
    "collapsed": false
   },
   "outputs": [
    {
     "data": {
      "text/plain": [
       "[4, 6, 8]"
      ]
     },
     "execution_count": 28,
     "metadata": {},
     "output_type": "execute_result"
    }
   ],
   "source": [
    "matrx = [1,2,3]\n",
    "matrx2 = [3,4,5]\n",
    "def sum(x,y):\n",
    "    return x+y\n",
    "    \n",
    "\n",
    "map(lambda x,y:x+y, matrx,matrx2)\n",
    "# map(sum(matrx,matrx2), matrx,matrx2)"
   ]
  },
  {
   "cell_type": "code",
   "execution_count": 30,
   "metadata": {
    "collapsed": false
   },
   "outputs": [],
   "source": [
    "import pandas as pd\n",
    "df = pd.DataFrame(np.random.randn(5, 3), index=['a', 'c', 'e', 'f', 'h'], columns=['one', 'two', 'three'])"
   ]
  },
  {
   "cell_type": "code",
   "execution_count": 75,
   "metadata": {
    "collapsed": false
   },
   "outputs": [],
   "source": [
    "foo = pd.read_csv('TechCrunchcontinentalUSA.csv',index_col=0,parse_dates=True)"
   ]
  },
  {
   "cell_type": "code",
   "execution_count": 46,
   "metadata": {
    "collapsed": false
   },
   "outputs": [
    {
     "data": {
      "text/plain": [
       "5500000.0"
      ]
     },
     "execution_count": 46,
     "metadata": {},
     "output_type": "execute_result"
    }
   ],
   "source": [
    "\n",
    "foo.raisedAmt.median"
   ]
  },
  {
   "cell_type": "code",
   "execution_count": 89,
   "metadata": {
    "collapsed": false
   },
   "outputs": [
    {
     "data": {
      "text/plain": [
       "permalink\n",
       "lifelock                       TEMPE\n",
       "lifelock                       TEMPE\n",
       "lifelock                       TEMPE\n",
       "mycityfaces               SCOTTSDALE\n",
       "flypaper                     PHOENIX\n",
       "infusionsoft                 GILBERT\n",
       "gauto                     SCOTTSDALE\n",
       "chosenlist-com            SCOTTSDALE\n",
       "chosenlist-com            SCOTTSDALE\n",
       "digg                   SAN FRANCISCO\n",
       "digg                   SAN FRANCISCO\n",
       "facebook                   PALO ALTO\n",
       "facebook                   PALO ALTO\n",
       "facebook                   PALO ALTO\n",
       "facebook                   PALO ALTO\n",
       "facebook                   PALO ALTO\n",
       "facebook                   PALO ALTO\n",
       "facebook                   PALO ALTO\n",
       "photobucket                PALO ALTO\n",
       "photobucket                PALO ALTO\n",
       "omnidrive                  PALO ALTO\n",
       "geni                  WEST HOLLYWOOD\n",
       "geni                  WEST HOLLYWOOD\n",
       "twitter                SAN FRANCISCO\n",
       "twitter                SAN FRANCISCO\n",
       "stumbleupon            SAN FRANCISCO\n",
       "gizmoz                    MENLO PARK\n",
       "gizmoz                    MENLO PARK\n",
       "scribd                 SAN FRANCISCO\n",
       "scribd                 SAN FRANCISCO\n",
       "                           ...      \n",
       "fyreball                    BELLEVUE\n",
       "delve-networks               SEATTLE\n",
       "delve-networks               SEATTLE\n",
       "livemocha                   BELLEVUE\n",
       "mercentcorporation           SEATTLE\n",
       "cleverset                    SEATTLE\n",
       "cleverset                    SEATTLE\n",
       "cleverset                    SEATTLE\n",
       "liquidplanner               BELLEVUE\n",
       "limeade                     BELLEVUE\n",
       "yodio                       BELLEVUE\n",
       "tastemakers                  SEATTLE\n",
       "whitepages-com               SEATTLE\n",
       "revenuescience               SEATTLE\n",
       "gotvoice                    KIRKLAND\n",
       "cardomain-network            SEATTLE\n",
       "mpire                        SEATTLE\n",
       "mpire                        SEATTLE\n",
       "teachstreet                  SEATTLE\n",
       "estately                         NaN\n",
       "infinia                    KENNEWICK\n",
       "infinia                    KENNEWICK\n",
       "m-metrics                    SEATTLE\n",
       "cozi                         SEATTLE\n",
       "cozi                         SEATTLE\n",
       "trusera                      SEATTLE\n",
       "alerts-com                  BELLEVUE\n",
       "myrio                        BOTHELL\n",
       "grid-networks                SEATTLE\n",
       "grid-networks                SEATTLE\n",
       "Name: city, dtype: object"
      ]
     },
     "execution_count": 89,
     "metadata": {},
     "output_type": "execute_result"
    }
   ],
   "source": [
    "foo.mean()\n",
    "foo.city.str.upper()\n"
   ]
  },
  {
   "cell_type": "code",
   "execution_count": 68,
   "metadata": {
    "collapsed": false
   },
   "outputs": [
    {
     "ename": "TypeError",
     "evalue": "map() takes at least 2 arguments (1 given)",
     "output_type": "error",
     "traceback": [
      "\u001b[1;31m---------------------------------------------------------------------------\u001b[0m",
      "\u001b[1;31mTypeError\u001b[0m                                 Traceback (most recent call last)",
      "\u001b[1;32m<ipython-input-68-210831061da7>\u001b[0m in \u001b[0;36m<module>\u001b[1;34m()\u001b[0m\n\u001b[0;32m      1\u001b[0m \u001b[0ms\u001b[0m \u001b[1;33m=\u001b[0m \u001b[0mpd\u001b[0m\u001b[1;33m.\u001b[0m\u001b[0mSeries\u001b[0m\u001b[1;33m(\u001b[0m\u001b[1;33m[\u001b[0m\u001b[1;36m1\u001b[0m\u001b[1;33m,\u001b[0m\u001b[1;36m3\u001b[0m\u001b[1;33m,\u001b[0m\u001b[1;36m5\u001b[0m\u001b[1;33m,\u001b[0m\u001b[0mnp\u001b[0m\u001b[1;33m.\u001b[0m\u001b[0mnan\u001b[0m\u001b[1;33m,\u001b[0m\u001b[1;36m6\u001b[0m\u001b[1;33m,\u001b[0m\u001b[1;36m8\u001b[0m\u001b[1;33m]\u001b[0m\u001b[1;33m)\u001b[0m\u001b[1;33m\u001b[0m\u001b[0m\n\u001b[0;32m      2\u001b[0m \u001b[0mtype\u001b[0m\u001b[1;33m(\u001b[0m\u001b[0ms\u001b[0m\u001b[1;33m)\u001b[0m\u001b[1;33m\u001b[0m\u001b[0m\n\u001b[1;32m----> 3\u001b[1;33m \u001b[0ms\u001b[0m\u001b[1;33m.\u001b[0m\u001b[0mmap\u001b[0m\u001b[1;33m(\u001b[0m\u001b[1;33m)\u001b[0m\u001b[1;33m\u001b[0m\u001b[0m\n\u001b[0m",
      "\u001b[1;31mTypeError\u001b[0m: map() takes at least 2 arguments (1 given)"
     ]
    }
   ],
   "source": [
    "s = pd.Series([1,3,5,np.nan,6,8])\n",
    "type(s)\n",
    "s.map()"
   ]
  },
  {
   "cell_type": "code",
   "execution_count": 54,
   "metadata": {
    "collapsed": false
   },
   "outputs": [
    {
     "data": {
      "text/plain": [
       "7615272.904253005"
      ]
     },
     "execution_count": 54,
     "metadata": {},
     "output_type": "execute_result"
    }
   ],
   "source": [
    "foo[:10].raisedAmt.std()"
   ]
  },
  {
   "cell_type": "code",
   "execution_count": 71,
   "metadata": {
    "collapsed": true
   },
   "outputs": [],
   "source": [
    "foo = \"somethin isn is in \".split(\"n\")"
   ]
  },
  {
   "cell_type": "code",
   "execution_count": 74,
   "metadata": {
    "collapsed": false
   },
   "outputs": [
    {
     "ename": "SyntaxError",
     "evalue": "lambda cannot contain assignment (<ipython-input-74-ac23517f96f4>, line 1)",
     "output_type": "error",
     "traceback": [
      "\u001b[1;36m  File \u001b[1;32m\"<ipython-input-74-ac23517f96f4>\"\u001b[1;36m, line \u001b[1;32m1\u001b[0m\n\u001b[1;33m    map(lambda x:x=\"ing\",foo)\u001b[0m\n\u001b[1;31mSyntaxError\u001b[0m\u001b[1;31m:\u001b[0m lambda cannot contain assignment\n"
     ]
    }
   ],
   "source": [
    "foo.r"
   ]
  },
  {
   "cell_type": "code",
   "execution_count": 93,
   "metadata": {
    "collapsed": false
   },
   "outputs": [
    {
     "data": {
      "text/plain": [
       "<matplotlib.axes._subplots.AxesSubplot at 0xa01a128>"
      ]
     },
     "execution_count": 93,
     "metadata": {},
     "output_type": "execute_result"
    }
   ],
   "source": [
    "ts = pd.Series(np.random.randn(1000), index=pd.date_range('1/1/2000', periods=1000))\n",
    "ts.cumsum()\n",
    "ts.plot()"
   ]
  },
  {
   "cell_type": "code",
   "execution_count": null,
   "metadata": {
    "collapsed": true
   },
   "outputs": [],
   "source": []
  }
 ],
 "metadata": {
  "kernelspec": {
   "display_name": "Python 2",
   "language": "python",
   "name": "python2"
  },
  "language_info": {
   "codemirror_mode": {
    "name": "ipython",
    "version": 2
   },
   "file_extension": ".py",
   "mimetype": "text/x-python",
   "name": "python",
   "nbconvert_exporter": "python",
   "pygments_lexer": "ipython2",
   "version": "2.7.11"
  }
 },
 "nbformat": 4,
 "nbformat_minor": 0
}
